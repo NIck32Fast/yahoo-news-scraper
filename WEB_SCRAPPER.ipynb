{
 "cells": [
  {
   "cell_type": "code",
   "execution_count": 20,
   "id": "3725ce85-272b-4e64-a679-f8c7e8f75c2d",
   "metadata": {},
   "outputs": [],
   "source": [
    "#import modules\n",
    "import requests\n",
    "from bs4 import BeautifulSoup\n",
    "import pandas as pd"
   ]
  },
  {
   "cell_type": "code",
   "execution_count": 53,
   "id": "14721b18-f1bf-48b5-bc7a-6ed1a65403e4",
   "metadata": {},
   "outputs": [
    {
     "name": "stdout",
     "output_type": "stream",
     "text": [
      "response.ok : True , response.status_code : 200\n",
      "Final URL after redirects (if any): https://finance.yahoo.com/news?hl=en-US&guccounter=1\n",
      "Preview of response.text :  <!doctype html>\n",
      "<html lang=\"en-US\" theme=\"auto\" data-color-theme-enabled=\"true\" data-color-scheme=\"auto\" class=\"desktop neo-green dock-upscale\">\n",
      "    <head>\n",
      "        <meta charset=\"utf-8\" />\n",
      "        <meta name=\"oath:guce:consent-host\" content=\"guce.yahoo.com\" />\n",
      "        <link rel=\"preconnect\" href=\"//s.yimg.com\" crossorigin=\"anonymous\"><link rel=\"preconnect\" href=\"//geo.yahoo.com\"/><link rel=\"preconnect\" href=\"//query1.finance.yahoo.com\"/><link rel=\"preconnect\" href=\"//query2.finance.yahoo.com\"/><\n"
     ]
    }
   ],
   "source": [
    "import requests\n",
    "\n",
    "my_url= \"https://finance.yahoo.com/news?hl=en-US&guccounter=1\" \n",
    "headers = {\n",
    "    \"User-Agent\": \"Mozilla/5.0 (Windows NT 10.0; Win64; x64) \"\n",
    "                  \"AppleWebKit/537.36 (KHTML, like Gecko) \"\n",
    "                  \"Chrome/114.0.0.0 Safari/537.36\"\n",
    "}\n",
    "\n",
    "response = requests.get(my_url, headers=headers)\n",
    "\n",
    "print(\"response.ok : {} , response.status_code : {}\".format(response.ok, response.status_code))\n",
    "print(\"Final URL after redirects (if any):\", response.url)\n",
    "print(\"Preview of response.text : \", response.text[:500])\n"
   ]
  },
  {
   "cell_type": "code",
   "execution_count": 2,
   "id": "18f7efae-9a40-433d-ab4b-30c503a1b807",
   "metadata": {},
   "outputs": [
    {
     "name": "stdout",
     "output_type": "stream",
     "text": [
      "💬 What topics are you interested in? (e.g., oil, inflation, interest rates)\n"
     ]
    },
    {
     "name": "stdin",
     "output_type": "stream",
     "text": [
      "🔎 Enter keywords separated by commas:  Stocks, Trump, Tariff, China\n"
     ]
    },
    {
     "name": "stdout",
     "output_type": "stream",
     "text": [
      "\n",
      "📡 Scraping Yahoo Finance News...\n",
      "\n",
      "✅ MATCH: stocks: most actives\n",
      "✅ MATCH: stocks: most actives\n",
      "✅ MATCH: verve therapeutics skyrockets — pulling gene-editing stocks higher — on $1.3 billion eli lilly takeover\n",
      "✅ MATCH: navigating now: how parents can shield their families from tariff-driven inflation\n",
      "✅ MATCH: navigating now: how to protect your small business from the latest round of tariffs\n",
      "\n",
      "✅ 5 articles saved to 'yahoo_filtered_news_2025-06-17.csv'\n"
     ]
    }
   ],
   "source": [
    "import requests\n",
    "from bs4 import BeautifulSoup\n",
    "import csv\n",
    "from datetime import datetime\n",
    "import time\n",
    "\n",
    "def extract_article_text(url, headers):\n",
    "    try:\n",
    "        article_res = requests.get(url, headers=headers, timeout=10)\n",
    "        if article_res.ok:\n",
    "            article_soup = BeautifulSoup(article_res.text, 'html.parser')\n",
    "            paragraphs = article_soup.find_all('p')\n",
    "            article_text = \" \".join(p.get_text(strip=True) for p in paragraphs)\n",
    "            return article_text[:500]\n",
    "        else:\n",
    "            return f\"Failed to fetch article: {article_res.status_code}\"\n",
    "    except Exception as e:\n",
    "        return f\"Error: {str(e)}\"\n",
    "\n",
    "def main():\n",
    "    print(\"What topics are you interested in? (e.g., oil, inflation, interest rates)\")\n",
    "    raw_input = input(\"Enter keywords separated by commas: \")\n",
    "    keywords = [k.strip().lower() for k in raw_input.split(',') if k.strip()]\n",
    "\n",
    "    if not keywords:\n",
    "        print(\"No keywords entered. Exiting.\")\n",
    "        return\n",
    "\n",
    "    url = \"https://finance.yahoo.com/news?hl=en-US\"\n",
    "    headers = {\n",
    "        \"User-Agent\": \"Mozilla/5.0\",\n",
    "        \"Accept-Language\": \"en-US,en;q=0.9\"\n",
    "    }\n",
    "\n",
    "    print(\"\\n Scraping Yahoo Finance News... please wait\\n\")\n",
    "    response = requests.get(url, headers=headers)\n",
    "    if not response.ok:\n",
    "        print(f\"❌ Request failed: {response.status_code}\")\n",
    "        return\n",
    "\n",
    "    soup = BeautifulSoup(response.text, \"html.parser\")\n",
    "    links = soup.find_all(\"a\", href=True)\n",
    "\n",
    "    today = datetime.today().strftime(\"%Y-%m-%d\")\n",
    "    filename = f\"yahoo_filtered_news_{today}.csv\"\n",
    "    matches = 0\n",
    "\n",
    "    with open(filename, \"w\", newline='', encoding='utf-8') as f:\n",
    "        writer = csv.writer(f)\n",
    "        writer.writerow([\"Date\", \"Title\", \"Link\", \"Preview\"])\n",
    "\n",
    "        for link in links:\n",
    "            text = link.get_text(strip=True).lower()\n",
    "            href = link[\"href\"]\n",
    "\n",
    "            if not text or len(text) < 20:\n",
    "                continue\n",
    "\n",
    "            if href.startswith(\"/\"):\n",
    "                full_url = \"https://finance.yahoo.com\" + href\n",
    "            elif href.startswith(\"http\"):\n",
    "                full_url = href\n",
    "            else:\n",
    "                continue\n",
    "\n",
    "            if any(k in text for k in keywords):\n",
    "                print(f\"✅ MATCH: {text}\")\n",
    "                preview = extract_article_text(full_url, headers)\n",
    "                writer.writerow([today, text.capitalize(), full_url, preview])\n",
    "                matches += 1\n",
    "                time.sleep(1)\n",
    "\n",
    "    if matches:\n",
    "        print(f\"\\n✅ {matches} articles saved to '{filename}'\")\n",
    "    else:\n",
    "        print(\"\\nNo matching articles found. Try different keywords.\")\n",
    "\n",
    "if __name__ == \"__main__\":\n",
    "    main()\n"
   ]
  }
 ],
 "metadata": {
  "kernelspec": {
   "display_name": "Python [conda env:anaconda3]",
   "language": "python",
   "name": "conda-env-anaconda3-py"
  },
  "language_info": {
   "codemirror_mode": {
    "name": "ipython",
    "version": 3
   },
   "file_extension": ".py",
   "mimetype": "text/x-python",
   "name": "python",
   "nbconvert_exporter": "python",
   "pygments_lexer": "ipython3",
   "version": "3.12.7"
  }
 },
 "nbformat": 4,
 "nbformat_minor": 5
}
